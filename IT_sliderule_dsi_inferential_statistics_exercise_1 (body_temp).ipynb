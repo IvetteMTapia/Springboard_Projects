{
 "cells": [
  {
   "cell_type": "markdown",
   "metadata": {},
   "source": [
    "# What is the True Normal Human Body Temperature? \n",
    "\n",
    "#### Background\n",
    "\n",
    "The mean normal body temperature was held to be 37$^{\\circ}$C or 98.6$^{\\circ}$F for more than 120 years since it was first conceptualized and reported by Carl Wunderlich in a famous 1868 book. But, is this value statistically correct?"
   ]
  },
  {
   "cell_type": "markdown",
   "metadata": {},
   "source": [
    "<h3>Exercises</h3>\n",
    "\n",
    "<p>In this exercise, you will analyze a dataset of human body temperatures and employ the concepts of hypothesis testing, confidence intervals, and statistical significance.</p>\n",
    "\n",
    "<p>Answer the following questions <b>in this notebook below and submit to your Github account</b>.</p> \n",
    "\n",
    "<ol>\n",
    "<li>  Is the distribution of body temperatures normal? \n",
    "    <ul>\n",
    "    <li> Although this is not a requirement for the Central Limit Theorem to hold (read the introduction on Wikipedia's page about the CLT carefully: https://en.wikipedia.org/wiki/Central_limit_theorem), it gives us some peace of mind that the population may also be normally distributed if we assume that this sample is representative of the population.\n",
    "    <li> Think about the way you're going to check for the normality of the distribution. Graphical methods are usually used first, but there are also other ways: https://en.wikipedia.org/wiki/Normality_test\n",
    "    </ul>\n",
    "<li>  Is the sample size large? Are the observations independent?\n",
    "    <ul>\n",
    "    <li> Remember that this is a condition for the Central Limit Theorem, and hence the statistical tests we are using, to apply.\n",
    "    </ul>\n",
    "<li>  Is the true population mean really 98.6 degrees F?\n",
    "    <ul>\n",
    "    <li> First, try a bootstrap hypothesis test.\n",
    "    <li> Now, let's try frequentist statistical testing. Would you use a one-sample or two-sample test? Why?\n",
    "    <li> In this situation, is it appropriate to use the $t$ or $z$ statistic? \n",
    "    <li> Now try using the other test. How is the result be different? Why?\n",
    "    </ul>\n",
    "<li>  Draw a small sample of size 10 from the data and repeat both frequentist tests. \n",
    "    <ul>\n",
    "    <li> Which one is the correct one to use? \n",
    "    <li> What do you notice? What does this tell you about the difference in application of the $t$ and $z$ statistic?\n",
    "    </ul>\n",
    "<li>  At what temperature should we consider someone's temperature to be \"abnormal\"?\n",
    "    <ul>\n",
    "    <li> As in the previous example, try calculating everything using the boostrap approach, as well as the frequentist approach.\n",
    "    <li> Start by computing the margin of error and confidence interval. When calculating the confidence interval, keep in mind that you should use the appropriate formula for one draw, and not N draws.\n",
    "    </ul>\n",
    "<li>  Is there a significant difference between males and females in normal temperature?\n",
    "    <ul>\n",
    "    <li> What testing approach did you use and why?\n",
    "    <li> Write a story with your conclusion in the context of the original problem.\n",
    "    </ul>\n",
    "</ol>\n",
    "\n",
    "You can include written notes in notebook cells using Markdown: \n",
    "   - In the control panel at the top, choose Cell > Cell Type > Markdown\n",
    "   - Markdown syntax: http://nestacms.com/docs/creating-content/markdown-cheat-sheet\n",
    "\n",
    "#### Resources\n",
    "\n",
    "+ Information and data sources: http://www.amstat.org/publications/jse/datasets/normtemp.txt, http://www.amstat.org/publications/jse/jse_data_archive.htm\n",
    "+ Markdown syntax: http://nestacms.com/docs/creating-content/markdown-cheat-sheet\n",
    "\n",
    "****"
   ]
  },
  {
   "cell_type": "code",
   "execution_count": 1,
   "metadata": {},
   "outputs": [],
   "source": [
    "#Import Libraries\n",
    "\n",
    "import pandas as pd\n",
    "import seaborn as sns\n",
    "import numpy as np\n",
    "import matplotlib.pyplot as plt\n",
    "from scipy import stats\n",
    "from statsmodels.stats.weightstats import ztest\n",
    "import math"
   ]
  },
  {
   "cell_type": "code",
   "execution_count": 2,
   "metadata": {},
   "outputs": [
    {
     "data": {
      "text/html": [
       "<div>\n",
       "<style scoped>\n",
       "    .dataframe tbody tr th:only-of-type {\n",
       "        vertical-align: middle;\n",
       "    }\n",
       "\n",
       "    .dataframe tbody tr th {\n",
       "        vertical-align: top;\n",
       "    }\n",
       "\n",
       "    .dataframe thead th {\n",
       "        text-align: right;\n",
       "    }\n",
       "</style>\n",
       "<table border=\"1\" class=\"dataframe\">\n",
       "  <thead>\n",
       "    <tr style=\"text-align: right;\">\n",
       "      <th></th>\n",
       "      <th>temperature</th>\n",
       "      <th>gender</th>\n",
       "      <th>heart_rate</th>\n",
       "    </tr>\n",
       "  </thead>\n",
       "  <tbody>\n",
       "    <tr>\n",
       "      <th>0</th>\n",
       "      <td>99.3</td>\n",
       "      <td>F</td>\n",
       "      <td>68.0</td>\n",
       "    </tr>\n",
       "    <tr>\n",
       "      <th>1</th>\n",
       "      <td>98.4</td>\n",
       "      <td>F</td>\n",
       "      <td>81.0</td>\n",
       "    </tr>\n",
       "    <tr>\n",
       "      <th>2</th>\n",
       "      <td>97.8</td>\n",
       "      <td>M</td>\n",
       "      <td>73.0</td>\n",
       "    </tr>\n",
       "    <tr>\n",
       "      <th>3</th>\n",
       "      <td>99.2</td>\n",
       "      <td>F</td>\n",
       "      <td>66.0</td>\n",
       "    </tr>\n",
       "    <tr>\n",
       "      <th>4</th>\n",
       "      <td>98.0</td>\n",
       "      <td>F</td>\n",
       "      <td>73.0</td>\n",
       "    </tr>\n",
       "  </tbody>\n",
       "</table>\n",
       "</div>"
      ],
      "text/plain": [
       "   temperature gender  heart_rate\n",
       "0         99.3      F        68.0\n",
       "1         98.4      F        81.0\n",
       "2         97.8      M        73.0\n",
       "3         99.2      F        66.0\n",
       "4         98.0      F        73.0"
      ]
     },
     "execution_count": 2,
     "metadata": {},
     "output_type": "execute_result"
    }
   ],
   "source": [
    "#Import data\n",
    "\n",
    "df = pd.read_csv('data/human_body_temperature.csv')\n",
    "\n",
    "df.head()"
   ]
  },
  {
   "cell_type": "code",
   "execution_count": 3,
   "metadata": {},
   "outputs": [],
   "source": [
    "# Your work here."
   ]
  },
  {
   "cell_type": "markdown",
   "metadata": {},
   "source": [
    "## Is the distribution of body temperatures normal?\n",
    "\n",
    "* Although this is not a requirement for the Central Limit Theorem to hold (read the introduction on Wikipedia's page about the CLT carefully: https://en.wikipedia.org/wiki/Central_limit_theorem), it gives us some peace of mind that the population may also be normally distributed if we assume that this sample is representative of the population.\n",
    "\n",
    "* Think about the way you're going to check for the normality of the distribution. Graphical methods are usually used first, but there are also other ways: https://en.wikipedia.org/wiki/Normality_test"
   ]
  },
  {
   "cell_type": "code",
   "execution_count": 4,
   "metadata": {},
   "outputs": [],
   "source": [
    "# Define function to calculate ECDF\n",
    "\n",
    "def ecdf(data):\n",
    "    \"\"\"Compute ECDF for a one-dimensional array of measurements.\"\"\"\n",
    "    # Number of data points: n\n",
    "    n = len(data)\n",
    "\n",
    "    # x-data for the ECDF: x\n",
    "    x = np.sort(data)\n",
    "\n",
    "    # y-data for the ECDF: y\n",
    "    y = np.arange(1, n+1) / n\n",
    "\n",
    "    return x, y"
   ]
  },
  {
   "cell_type": "code",
   "execution_count": 5,
   "metadata": {},
   "outputs": [
    {
     "name": "stdout",
     "output_type": "stream",
     "text": [
      "Mean: 98.25\n",
      "Standard Deviation: 0.73\n"
     ]
    }
   ],
   "source": [
    "# Calculate mean of temperature\n",
    "\n",
    "mean = np.mean(df.temperature)\n",
    "\n",
    "# Calculate standard deviation of temperature\n",
    "\n",
    "std = np.std(df.temperature)\n",
    "\n",
    "print('Mean: ' + str(round(mean,2)))\n",
    "print('Standard Deviation: ' + str(round(std,2)))"
   ]
  },
  {
   "cell_type": "code",
   "execution_count": 6,
   "metadata": {},
   "outputs": [],
   "source": [
    "#Generate 10K samples from mean and standard deviation. Set seed to 42.\n",
    "\n",
    "np.random.seed(42)\n",
    "\n",
    "samples = np.random.normal(mean, std, size=10000)\n",
    "\n",
    "#Calculate ECDF of the temperature data\n",
    "\n",
    "x, y = ecdf(df.temperature)\n",
    "\n",
    "#Calculate ECDF of sample temperature data\n",
    "\n",
    "x_theor, y_theor = ecdf(samples)"
   ]
  },
  {
   "cell_type": "code",
   "execution_count": 8,
   "metadata": {},
   "outputs": [
    {
     "data": {
      "image/png": "[encoded data removed]",
      "text/plain": [
       "<matplotlib.figure.Figure at 0x1a0d7f8c88>"
      ]
     },
     "metadata": {},
     "output_type": "display_data"
    },
    {
     "data": {
      "image/png": "[encoded data removed]",
      "text/plain": [
       "<matplotlib.figure.Figure at 0x1a16798320>"
      ]
     },
     "metadata": {},
     "output_type": "display_data"
    }
   ],
   "source": [
    "sns.set()\n",
    "\n",
    "#Graph a histogram\n",
    "\n",
    "sns.distplot(df.temperature)\n",
    "\n",
    "_ = plt.ylabel('PDF')\n",
    "\n",
    "plt.show()\n",
    "\n",
    "#Graph actual and cumulative sample distributions\n",
    "\n",
    "_ = plt.plot(x_theor, y_theor)\n",
    "\n",
    "_ = plt.plot(x, y, marker='.', linestyle='none')\n",
    "\n",
    "_ = plt.xlabel('temperature')\n",
    "\n",
    "_ = plt.ylabel('CDF')\n",
    "\n",
    "plt.show()\n",
    "\n",
    "#The distrubution looks roughly normal in the CDF plot, however somewhat unclear in the histogram. \n"
   ]
  },
  {
   "cell_type": "code",
   "execution_count": 9,
   "metadata": {},
   "outputs": [
    {
     "data": {
      "text/plain": [
       "NormaltestResult(statistic=2.703801433319203, pvalue=0.2587479863488254)"
      ]
     },
     "execution_count": 9,
     "metadata": {},
     "output_type": "execute_result"
    }
   ],
   "source": [
    "#Do back of the evelope normality test\n",
    "\n",
    "#H0: Distribution is normal.\n",
    "#H1: Distribution is not normal.\n",
    "#alpha = 0.05\n",
    "\n",
    "stats.normaltest(df.temperature)\n",
    "\n",
    "#Fail to reject null hypothesis."
   ]
  },
  {
   "cell_type": "markdown",
   "metadata": {},
   "source": [
    "Is the sample size large? Are the observations independent?\n",
    "\n",
    "* Remember that this is a condition for the Central Limit Theorem, and hence the statistical tests we are using, to apply."
   ]
  },
  {
   "cell_type": "code",
   "execution_count": 10,
   "metadata": {},
   "outputs": [
    {
     "name": "stdout",
     "output_type": "stream",
     "text": [
      "Sample Size: 130\n"
     ]
    }
   ],
   "source": [
    "#Conditions for central limit theorem: random sample, idependence and sample < 10% population.\n",
    "\n",
    "#Ramdom Sample: The data was obtained from volunteers in a clinic.\n",
    "\n",
    "#Count Sample:\n",
    "\n",
    "print('Sample Size:', len(df.temperature))\n",
    "\n",
    "# Independence: \n",
    "\n",
    "#We can reasonably assume that 130 observations do not represent more than 10% of the human population."
   ]
  },
  {
   "cell_type": "markdown",
   "metadata": {},
   "source": [
    "## Is the true population mean really 98.6 degrees F?\n",
    "> #### First, try a bootstrap hypothesis test.\n",
    "> #### Now, let's try frequentist statistical testing. Would you use a one-sample or two-sample test? Why?\n",
    "> #### In this situation, is it appropriate to use the $t$ or $z$ statistic? \n",
    "> #### Now try using the other test. How is the result be different? Why?"
   ]
  },
  {
   "cell_type": "code",
   "execution_count": 11,
   "metadata": {},
   "outputs": [],
   "source": [
    "#Bootstrap hypothesis test. Alpha = 0.05\n",
    "\n",
    "#Create bootstrap function\n",
    "\n",
    "def bs_sample(v, function, size = 10000):\n",
    "    \n",
    "    #Generate random seed for replicability\n",
    "    np.random.seed(42) \n",
    "    \n",
    "    #Initialize replicates\n",
    "    bs_sample = np.empty(size)\n",
    "    \n",
    "    #Create replicates\n",
    "    for i in range(size):\n",
    "        bs = function(np.random.choice(v, size=len(v)))\n",
    "        bs_sample[i] = bs\n",
    "\n",
    "    return  bs_sample"
   ]
  },
  {
   "cell_type": "code",
   "execution_count": 12,
   "metadata": {},
   "outputs": [
    {
     "name": "stdout",
     "output_type": "stream",
     "text": [
      "Mean Sample Temperature: 98.25\n",
      "Mean Shifted Sample Temperature: 98.6\n",
      "P-value: 0.0\n",
      "The p-value is below the set alpha level of 5%, we reject the null hypothesis that the population mean is 98.6\n"
     ]
    }
   ],
   "source": [
    "#Shift temperature data to have a mean of 98.6\n",
    "\n",
    "shifted_sample = df.temperature + (98.6 - np.mean(df.temperature))\n",
    "\n",
    "#Create Bootstrap replicates of shifted sample and temperature means\n",
    "\n",
    "n=10000\n",
    "\n",
    "shifted_bs_means = bs_sample(shifted_sample, np.mean, n)\n",
    "\n",
    "bs_means = bs_sample(df.temperature, np.mean, n)\n",
    "\n",
    "#Find p value. Find instances in which the shifted means are below or equal to \n",
    "#the sample temperature means.\n",
    "\n",
    "pvalue = np.sum(shifted_bs_means <= np.mean(df.temperature))/n\n",
    "\n",
    "#Perform Hypothesis Test Using T-statistic. Alpha = 0.05\n",
    "\n",
    "#H0: The population mean equals 96.5\n",
    "#H1: The population mean does not equal 96.5\n",
    "\n",
    "print('Mean Sample Temperature: ' + str(round(np.mean(df.temperature),2)))\n",
    "print('Mean Shifted Sample Temperature: ' + str(round(np.mean(shifted_sample),2)))\n",
    "print('P-value: ' + str(pvalue))\n",
    "print('The p-value is below the set alpha level of 5%, we reject the null hypothesis that the population mean is 98.6')"
   ]
  },
  {
   "cell_type": "code",
   "execution_count": 13,
   "metadata": {},
   "outputs": [
    {
     "data": {
      "text/plain": [
       "<matplotlib.legend.Legend at 0x1a16a12320>"
      ]
     },
     "execution_count": 13,
     "metadata": {},
     "output_type": "execute_result"
    },
    {
     "data": {
      "image/png": "[encoded data removed]",
      "text/plain": [
       "<matplotlib.figure.Figure at 0x1a1686a8d0>"
      ]
     },
     "metadata": {},
     "output_type": "display_data"
    }
   ],
   "source": [
    "#Plot CDF plot \n",
    "\n",
    "# Compute ecdfs\n",
    "\n",
    "x_bs_means, y_bs_means = ecdf(bs_means)\n",
    "x_bs_means_shifted, y_bs_means_shifted = ecdf(shifted_bs_means)\n",
    "\n",
    "\n",
    "plt.plot(x_bs_means, y_bs_means, marker='.', linestyle='none')\n",
    "plt.plot(x_bs_means_shifted, y_bs_means_shifted, marker='.', linestyle='none')\n",
    "plt.ylabel('CDF')\n",
    "plt.xlabel('Temperature')\n",
    "plt.legend(('Bst Means', 'Bst Shifted Means'),loc=4)"
   ]
  },
  {
   "cell_type": "markdown",
   "metadata": {},
   "source": [
    "> #### Now, let's try frequentist statistical testing. Would you use a one-sample or two-sample test? Why?\n",
    "> #### In this situation, is it appropriate to use the $t$ or $z$ statistic? \n",
    "> *One would use a one sample test since only one sample has been provided. The t-test is more appropitate in this case, because we do not have the population standard deviation. Since we do not have the population standard deviation it needs to be estimated, which the t-statistic does.*\n",
    "\n",
    "> *Z statistics more appropiate for when the standard deviation of the population (a distribution parameter) is known and proportions such as the binomial distribution.*"
   ]
  },
  {
   "cell_type": "code",
   "execution_count": 14,
   "metadata": {},
   "outputs": [
    {
     "name": "stdout",
     "output_type": "stream",
     "text": [
      "One-Sample T-Test = -5.45 \n",
      "Two tailed P-value = 0.0\n",
      "One Sample T-Test Manual = -5.48\n"
     ]
    }
   ],
   "source": [
    "#Perform one-sample t-test on the temperature data. \n",
    "\n",
    "temp_ttest, temp_pvalue = stats.ttest_1samp(df.temperature, 98.6)\n",
    "\n",
    "print('One-Sample T-Test =',round(temp_ttest,2),'\\nTwo tailed P-value =',round(temp_pvalue,3))\n",
    "\n",
    "#The t-test calculation can also be done manually as follows: \n",
    "\n",
    "temp_ttest2 = (np.mean(df.temperature)-98.6)/(np.std(df.temperature)/math.sqrt(len(df.temperature)))\n",
    "print('One Sample T-Test Manual =',round(temp_ttest2,2))\n",
    "\n",
    "#This t-statistic on a table t-table results results in a P-value < 0.0005"
   ]
  },
  {
   "cell_type": "markdown",
   "metadata": {},
   "source": [
    "> #### Now try using the other test. How is the result be different? Why?\n",
    "\n",
    "> *The p-value is smaller using the z-score for hypothesis testing. Z statistics more appropiate for when the standard deviation of the population (a distribution paraneters) is known and proportions such as the binomial distribution.*"
   ]
  },
  {
   "cell_type": "code",
   "execution_count": 15,
   "metadata": {},
   "outputs": [
    {
     "name": "stdout",
     "output_type": "stream",
     "text": [
      "Two tailed P-value = 4.9021570141012155e-08\n",
      "Two tailed P-value = 4.9021570141012155e-08\n",
      "Z-score = -5.4548232923645195\n",
      "The p-value is below the set alpha level of 5%, we reject the null hypothesis that the population mean is 98.6\n"
     ]
    }
   ],
   "source": [
    "#Calculate z - statistic and their p-value\n",
    "\n",
    "tempZ, dummy = stats.ttest_1samp(df.temperature, 98.6)\n",
    "p_valuez = stats.norm.sf(abs(tempZ))*2\n",
    "print('Two tailed P-value =',p_valuez)\n",
    "\n",
    "#Using the \n",
    "\n",
    "#They result in the same value\n",
    "\n",
    "zscore, p_valuez2 = ztest(df.temperature,value=98.6)\n",
    "\n",
    "print('Two tailed P-value =',p_valuez2)\n",
    "print('Z-score =',zscore)\n",
    "\n",
    "#Perform Hypothesis Test using z-score statistic\n",
    "\n",
    "#H0: The population mean equals 96.5\n",
    "#H1: The population mean does not equal 96.5\n",
    "\n",
    "print('The p-value is below the set alpha level of 5%, we reject the null hypothesis that the population mean is 98.6')"
   ]
  },
  {
   "cell_type": "markdown",
   "metadata": {},
   "source": [
    "## Draw a small sample of size 10 from the data and repeat both frequentist tests. \n",
    "   \n",
    "* Which one is the correct one to use? \n",
    "* What do you notice? What does this tell you about the difference in application of the $t$ and $z$ statistic?\n",
    "\n",
    "> *The p-value of the z-test is lower than the p-value of the z-test. Since the sample is < 30 the assumptions of the central limit theorem may not be satisfied. The p-values of a sample of 10 are larger than for the sample of 130.The t-test is more appropiate than the z-score beacause population distribution paramerters are unknown.*"
   ]
  },
  {
   "cell_type": "code",
   "execution_count": 16,
   "metadata": {},
   "outputs": [
    {
     "name": "stdout",
     "output_type": "stream",
     "text": [
      "T-test: Ttest_1sampResult(statistic=2.2948907108029672, pvalue=0.047393936397399125)\n",
      "Z-test: (2.2948907108029672, 0.021739388297612402)\n"
     ]
    }
   ],
   "source": [
    "#Draw 10 samples\n",
    "\n",
    "sample10 = np.random.choice(df['temperature'], size = 10)\n",
    "\n",
    "#Perform a z-test on the sample\n",
    "\n",
    "z_test_10 = ztest(sample10,value=98.6)\n",
    "\n",
    "#Perform a t-test on the sample\n",
    "\n",
    "t_test_10 = stats.ttest_1samp(sample10,98.6)\n",
    "\n",
    "#View Results\n",
    "\n",
    "print('T-test:', t_test_10)\n",
    "print('Z-test:', z_test_10)"
   ]
  },
  {
   "cell_type": "markdown",
   "metadata": {},
   "source": [
    "## At what temperature should we consider someone's temperature to be \"abnormal\"?\n",
    "\n",
    "* As in the previous example, try calculating everything using the boostrap approach, as well as the frequentist approach.\n",
    "* Start by computing the margin of error and confidence interval. When calculating the confidence interval, keep in mind that you should use the appropriate formula for one draw, and not N draws."
   ]
  },
  {
   "cell_type": "code",
   "execution_count": 17,
   "metadata": {},
   "outputs": [
    {
     "name": "stdout",
     "output_type": "stream",
     "text": [
      "Bootstrap 95% confidence interval: 98.12, 98.37\n"
     ]
    }
   ],
   "source": [
    "#Bootstrap confidence interval from the sample using 10K draws. \n",
    "\n",
    "#Create bootstrap sample means distribution. Used same function and nsamples (10K) as the previous question.\n",
    "\n",
    "bs_means2 = bs_sample(df.temperature, np.mean, size = 10000)\n",
    "\n",
    "#Find 95% confidence interval\n",
    "bs_interval = np.percentile(bs_means2, [2.5,97.5])\n",
    "\n",
    "#print the results\n",
    "print('Bootstrap 95% confidence interval:', str(round(bs_interval[0],2))+',', round(bs_interval[1],2))"
   ]
  },
  {
   "cell_type": "code",
   "execution_count": 18,
   "metadata": {},
   "outputs": [
    {
     "name": "stdout",
     "output_type": "stream",
     "text": [
      "Bootstrap 95% confidence interval: 98.12, 98.37\n"
     ]
    }
   ],
   "source": [
    "#Bootstrap confidence interval from the sample using 1 draw. \n",
    "\n",
    "bs_means3 = bs_sample(df.temperature, np.mean, size=1)\n",
    "\n",
    "#Find 95% confidence interval\n",
    "bs_interval_1 = np.percentile(bs_means, [2.5,97.5])\n",
    "\n",
    "#print the results\n",
    "print('Bootstrap 95% confidence interval:', str(round(bs_interval_1[0],2))+',', round(bs_interval_1[1],2))"
   ]
  },
  {
   "cell_type": "code",
   "execution_count": 31,
   "metadata": {},
   "outputs": [
    {
     "name": "stdout",
     "output_type": "stream",
     "text": [
      "The margin of error on the mean temperature is:  0.125550964802579\n",
      "Sample 95% confidence interval: 96.72, 99.48\n"
     ]
    }
   ],
   "source": [
    "# Margin of Error\n",
    "critical_z = 1.96 # z-value corresponding to 95% confidence interval\n",
    "standard_e = np.std(df.temperature)/np.sqrt(len(df.temperature))\n",
    "margin_e = critical_z * standard_e \n",
    "print('The margin of error on the mean temperature is: ', margin_e,)\n",
    "\n",
    "#Confidence using the sample\n",
    "\n",
    "sample_interval = np.percentile(df.temperature, [2.5, 97.5])\n",
    "print('Sample 95% confidence interval:', str(round(sample_interval[0],2))+',', round(sample_interval[1],2))"
   ]
  },
  {
   "cell_type": "code",
   "execution_count": 20,
   "metadata": {},
   "outputs": [
    {
     "name": "stdout",
     "output_type": "stream",
     "text": [
      "Sample 95% confidence interval: 98.11, 99.46\n"
     ]
    }
   ],
   "source": [
    "#Confidence interval using sample of 10\n",
    "\n",
    "sample10_interval = np.percentile(sample10, [2.5, 97.5])\n",
    "print('Sample 95% confidence interval:', str(round(sample10_interval[0],2))+',', round(sample10_interval[1],2))\n"
   ]
  },
  {
   "cell_type": "markdown",
   "metadata": {},
   "source": [
    "# Is there a significant difference between males and females in normal temperature?\n",
    "\n",
    "* What testing approach did you use and why?\n",
    "* Write a story with your conclusion in the context of the original problem."
   ]
  },
  {
   "cell_type": "code",
   "execution_count": 21,
   "metadata": {},
   "outputs": [],
   "source": [
    "#Slit dataframe by gender\n",
    "\n",
    "df_male = df[df.gender == 'M']\n",
    "\n",
    "df_female = df[df.gender == 'F']"
   ]
  },
  {
   "cell_type": "code",
   "execution_count": 22,
   "metadata": {},
   "outputs": [
    {
     "data": {
      "image/png": "[encoded data removed]",
      "text/plain": [
       "<matplotlib.figure.Figure at 0x1a16a65d30>"
      ]
     },
     "metadata": {},
     "output_type": "display_data"
    }
   ],
   "source": [
    "#Plot male and female temperature samples.\n",
    "\n",
    "f, ax = plt.subplots(1,1)\n",
    "sns.distplot(df_female.temperature, ax=ax, label='Female')\n",
    "sns.distplot(df_male.temperature, ax=ax, label='Male')\n",
    "sns.despine()\n",
    "ax.set_xlabel('Temperature')\n",
    "ax.set_ylabel('PDF')\n",
    "ax.set_title('Temperature distributions')\n",
    "plt.legend()\n",
    "plt.show()"
   ]
  },
  {
   "cell_type": "code",
   "execution_count": 23,
   "metadata": {},
   "outputs": [
    {
     "data": {
      "image/png": "[encoded data removed]",
      "text/plain": [
       "<matplotlib.figure.Figure at 0x1a169dd048>"
      ]
     },
     "metadata": {},
     "output_type": "display_data"
    }
   ],
   "source": [
    "#Plot CDF plot \n",
    "\n",
    "# Compute ecdfs\n",
    "\n",
    "x_female, y_female = ecdf(df_female.temperature)\n",
    "x_male, y_male = ecdf(df_male.temperature)\n",
    "\n",
    "_ = plt.plot(x_female, y_female, marker='.', linestyle='none')\n",
    "_ = plt.plot(x_male, y_male, marker='.', linestyle='none')\n",
    "_ = plt.ylabel('CDF')\n",
    "_ = plt.xlabel('Temperature')\n",
    "_ = plt.legend(('females', 'males'))\n",
    "\n",
    "#It seems female temperatures skew a higher."
   ]
  },
  {
   "cell_type": "code",
   "execution_count": 25,
   "metadata": {},
   "outputs": [
    {
     "name": "stdout",
     "output_type": "stream",
     "text": [
      "T-statistic:  -2.2854345381656103\n",
      "P-value T-Test:  0.02393188312239561\n"
     ]
    }
   ],
   "source": [
    "#Hypothesis testing using frequentist approach. Alpha = 0.05\n",
    "\n",
    "#H0: The gender male and female sample means is the same.I.e difference is 0.\n",
    "#H1: The gender male and female sample means is not the same.I.e difference does not equal 0.\n",
    "\n",
    "gender_tstat, gender_pvalue = stats.ttest_ind(df_male.temperature,df_female.temperature)\n",
    "\n",
    "print('T-statistic: ', gender_tstat)\n",
    "print('P-value T-Test: ', gender_pvalue)\n",
    "\n",
    "#Reject the null hypothesis that the male and female sample means is the same"
   ]
  },
  {
   "cell_type": "code",
   "execution_count": 26,
   "metadata": {},
   "outputs": [
    {
     "name": "stdout",
     "output_type": "stream",
     "text": [
      "P-value bootstrap = 0.0114\n"
     ]
    }
   ],
   "source": [
    "#Hypothesis testing using bootstrap replicates approach. Alpha = 0.05\n",
    "\n",
    "#H0: The gender male and female sample means is the same.I.e difference is 0.\n",
    "#H1: The gender male and female sample means is not the same.I.e difference does not equal 0.\n",
    "\n",
    "# Generate shifted arrays\n",
    "females_shifted = df_female.temperature - np.mean(df_female.temperature) + np.mean(df.temperature)\n",
    "males_shifted = df_male.temperature - np.mean(df_male.temperature) + np.mean(df.temperature)\n",
    "\n",
    "# Compute 10,000 bootstrap replicates from shifted arrays\n",
    "bs_females = bs_sample(females_shifted, np.mean, size=10000)\n",
    "bs_males = bs_sample(males_shifted, np.mean, size=10000)\n",
    "\n",
    "# Get replicates of difference of means: bs_replicates\n",
    "bs_replicates_diff = bs_females - bs_males\n",
    "\n",
    "sample_diff_means = np.mean(df_female.temperature) - np.mean(df_male.temperature)\n",
    "\n",
    "# Compute and print p-value: p\n",
    "pvalue_gender_diff = np.sum(bs_replicates_diff >= sample_diff_means) / len(bs_replicates_diff)\n",
    "\n",
    "print('P-value bootstrap =', pvalue_gender_diff)\n",
    "\n",
    "#Reject the null hypothesis that the male and female sample means is the same."
   ]
  },
  {
   "cell_type": "code",
   "execution_count": null,
   "metadata": {},
   "outputs": [],
   "source": [
    "#Plot CDF plot\n",
    "\n",
    "# Compute ecdfs\n",
    "\n",
    "x_bs_means_female, y_bs_means_females = ecdf(bs_females)\n",
    "x_bs_means_males, y_bs_means_males = ecdf(bs_males)\n",
    "\n",
    "\n",
    "plt.plot(x_bs_means_female, y_bs_means_females, marker='.', linestyle='none')\n",
    "plt.plot(x_bs_means_males, y_bs_means_males, marker='.', linestyle='none')\n",
    "plt.ylabel('CDF')\n",
    "plt.xlabel('Temperature')\n",
    "plt.legend(('Bst Means Females', 'Bst Means Males'),loc=4)"
   ]
  },
  {
   "cell_type": "code",
   "execution_count": 28,
   "metadata": {},
   "outputs": [
    {
     "name": "stdout",
     "output_type": "stream",
     "text": [
      "P-value permutation: 0.023\n"
     ]
    }
   ],
   "source": [
    "#Hypothesis testing using permutation approach. Alpha = 0.05\n",
    "\n",
    "#H0: The gender male and female sample means is the same.I.e difference is 0.\n",
    "#H1: The gender male and female sample means is not the same.I.e difference does not equal 0.\n",
    "\n",
    "# Define test statistic \n",
    "def diff_of_means(data_1, data_2):\n",
    "    \"\"\"Difference in means of two arrays\"\"\"\n",
    "    return np.mean(data_1) - np.mean(data_2)\n",
    "\n",
    "# Compute test statistic for observed data\n",
    "diff_means_gender = diff_of_means(df_female.temperature, df_male.temperature)\n",
    "\n",
    "\n",
    "# Draw permutation replicates\n",
    "perm_replicates = np.empty(10000)\n",
    "for i in range(len(perm_replicates)): \n",
    "    \n",
    "    # Permute the data\n",
    "    concat = np.concatenate((df_male.temperature, df_female.temperature))\n",
    "    permute = np.random.permutation(concat)\n",
    "    perm_females = permute[:len(df_male)]\n",
    "    perm_males = permute[len(df_female):]\n",
    "    \n",
    "    #Draw replicates\n",
    "    perm_replicates[i] = diff_of_means(perm_females, perm_males)\n",
    "\n",
    "\n",
    "# Compute p-value\n",
    "p_value_permute = np.sum(abs(perm_replicates) >= abs(diff_means_gender)) / len(perm_replicates)\n",
    "\n",
    "print('P-value permutation:',p_value_permute)\n",
    "\n",
    "#Reject the null hypothesis that the male and female sample means is the same."
   ]
  },
  {
   "cell_type": "markdown",
   "metadata": {},
   "source": [
    "# Conclusion"
   ]
  },
  {
   "cell_type": "markdown",
   "metadata": {},
   "source": [
    "* Temperature data is roughly normal.\n",
    "* The conditions for the central limit theorem random, independence and sample size > 30 were met.\n",
    "* Using both a bootsrap approach and a frequentist approach we can conclude that is highly unlikely the population temperature mean value is 98.6.\n",
    "* Using a bootstrap, permutation and frequentist approaches, I find that there is a statistically significant difference between the males and females body temperatures. Females tend to have warmer bodies than males.\n",
    "* Carl Wunderlich finding that the normal human body temperature is 98.6 seem statistically unlikely."
   ]
  },
  {
   "cell_type": "markdown",
   "metadata": {},
   "source": [
    "# End of Notebook"
   ]
  }
 ],
 "metadata": {
  "kernelspec": {
   "display_name": "Python 3",
   "language": "python",
   "name": "python3"
  },
  "language_info": {
   "codemirror_mode": {
    "name": "ipython",
    "version": 3
   },
   "file_extension": ".py",
   "mimetype": "text/x-python",
   "name": "python",
   "nbconvert_exporter": "python",
   "pygments_lexer": "ipython3",
   "version": "3.6.4"
  }
 },
 "nbformat": 4,
 "nbformat_minor": 1
}
