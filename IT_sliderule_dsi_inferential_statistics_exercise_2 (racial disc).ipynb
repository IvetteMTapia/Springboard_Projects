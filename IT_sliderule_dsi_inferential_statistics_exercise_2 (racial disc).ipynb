{
 "cells": [
  {
   "cell_type": "markdown",
   "metadata": {},
   "source": [
    "# Examining Racial Discrimination in the US Job Market\n",
    "\n",
    "### Background\n",
    "Racial discrimination continues to be pervasive in cultures throughout the world. Researchers examined the level of racial discrimination in the United States labor market by randomly assigning identical résumés to black-sounding or white-sounding names and observing the impact on requests for interviews from employers.\n",
    "\n",
    "### Data\n",
    "In the dataset provided, each row represents a resume. The 'race' column has two values, 'b' and 'w', indicating black-sounding and white-sounding. The column 'call' has two values, 1 and 0, indicating whether the resume received a call from employers or not.\n",
    "\n",
    "Note that the 'b' and 'w' values in race are assigned randomly to the resumes when presented to the employer."
   ]
  },
  {
   "cell_type": "markdown",
   "metadata": {},
   "source": [
    "<div class=\"span5 alert alert-info\">\n",
    "### Exercises\n",
    "You will perform a statistical analysis to establish whether race has a significant impact on the rate of callbacks for resumes.\n",
    "\n",
    "Answer the following questions **in this notebook below and submit to your Github account**. \n",
    "\n",
    "   1. What test is appropriate for this problem? Does CLT apply?\n",
    "   2. What are the null and alternate hypotheses?\n",
    "   3. Compute margin of error, confidence interval, and p-value. Try using both the bootstrapping and the frequentist statistical approaches.\n",
    "   4. Write a story describing the statistical significance in the context or the original problem.\n",
    "   5. Does your analysis mean that race/name is the most important factor in callback success? Why or why not? If not, how would you amend your analysis?\n",
    "\n",
    "You can include written notes in notebook cells using Markdown: \n",
    "   - In the control panel at the top, choose Cell > Cell Type > Markdown\n",
    "   - Markdown syntax: http://nestacms.com/docs/creating-content/markdown-cheat-sheet\n",
    "\n",
    "\n",
    "#### Resources\n",
    "+ Experiment information and data source: http://www.povertyactionlab.org/evaluation/discrimination-job-market-united-states\n",
    "+ Scipy statistical methods: http://docs.scipy.org/doc/scipy/reference/stats.html \n",
    "+ Markdown syntax: http://nestacms.com/docs/creating-content/markdown-cheat-sheet\n",
    "+ Formulas for the Bernoulli distribution: https://en.wikipedia.org/wiki/Bernoulli_distribution\n",
    "</div>\n",
    "****"
   ]
  },
  {
   "cell_type": "code",
   "execution_count": 22,
   "metadata": {},
   "outputs": [],
   "source": [
    "import pandas as pd\n",
    "import numpy as np\n",
    "from scipy import stats"
   ]
  },
  {
   "cell_type": "code",
   "execution_count": 2,
   "metadata": {},
   "outputs": [],
   "source": [
    "data = pd.io.stata.read_stata('data/us_job_market_discrimination.dta')"
   ]
  },
  {
   "cell_type": "code",
   "execution_count": 11,
   "metadata": {},
   "outputs": [
    {
     "name": "stdout",
     "output_type": "stream",
     "text": [
      "157.0\n",
      "235.0\n"
     ]
    }
   ],
   "source": [
    "# number of callbacks for black-sounding names\n",
    "print(sum(data[data.race=='b'].call))\n",
    "\n",
    "# number of callbacks for white-sounding names\n",
    "print(sum(data[data.race=='w'].call))"
   ]
  },
  {
   "cell_type": "code",
   "execution_count": 7,
   "metadata": {},
   "outputs": [
    {
     "data": {
      "text/html": [
       "<div>\n",
       "<style scoped>\n",
       "    .dataframe tbody tr th:only-of-type {\n",
       "        vertical-align: middle;\n",
       "    }\n",
       "\n",
       "    .dataframe tbody tr th {\n",
       "        vertical-align: top;\n",
       "    }\n",
       "\n",
       "    .dataframe thead th {\n",
       "        text-align: right;\n",
       "    }\n",
       "</style>\n",
       "<table border=\"1\" class=\"dataframe\">\n",
       "  <thead>\n",
       "    <tr style=\"text-align: right;\">\n",
       "      <th></th>\n",
       "      <th>id</th>\n",
       "      <th>ad</th>\n",
       "      <th>education</th>\n",
       "      <th>ofjobs</th>\n",
       "      <th>yearsexp</th>\n",
       "      <th>honors</th>\n",
       "      <th>volunteer</th>\n",
       "      <th>military</th>\n",
       "      <th>empholes</th>\n",
       "      <th>occupspecific</th>\n",
       "      <th>...</th>\n",
       "      <th>compreq</th>\n",
       "      <th>orgreq</th>\n",
       "      <th>manuf</th>\n",
       "      <th>transcom</th>\n",
       "      <th>bankreal</th>\n",
       "      <th>trade</th>\n",
       "      <th>busservice</th>\n",
       "      <th>othservice</th>\n",
       "      <th>missind</th>\n",
       "      <th>ownership</th>\n",
       "    </tr>\n",
       "  </thead>\n",
       "  <tbody>\n",
       "    <tr>\n",
       "      <th>0</th>\n",
       "      <td>b</td>\n",
       "      <td>1</td>\n",
       "      <td>4</td>\n",
       "      <td>2</td>\n",
       "      <td>6</td>\n",
       "      <td>0</td>\n",
       "      <td>0</td>\n",
       "      <td>0</td>\n",
       "      <td>1</td>\n",
       "      <td>17</td>\n",
       "      <td>...</td>\n",
       "      <td>1.0</td>\n",
       "      <td>0.0</td>\n",
       "      <td>1.0</td>\n",
       "      <td>0.0</td>\n",
       "      <td>0.0</td>\n",
       "      <td>0.0</td>\n",
       "      <td>0.0</td>\n",
       "      <td>0.0</td>\n",
       "      <td>0.0</td>\n",
       "      <td></td>\n",
       "    </tr>\n",
       "    <tr>\n",
       "      <th>1</th>\n",
       "      <td>b</td>\n",
       "      <td>1</td>\n",
       "      <td>3</td>\n",
       "      <td>3</td>\n",
       "      <td>6</td>\n",
       "      <td>0</td>\n",
       "      <td>1</td>\n",
       "      <td>1</td>\n",
       "      <td>0</td>\n",
       "      <td>316</td>\n",
       "      <td>...</td>\n",
       "      <td>1.0</td>\n",
       "      <td>0.0</td>\n",
       "      <td>1.0</td>\n",
       "      <td>0.0</td>\n",
       "      <td>0.0</td>\n",
       "      <td>0.0</td>\n",
       "      <td>0.0</td>\n",
       "      <td>0.0</td>\n",
       "      <td>0.0</td>\n",
       "      <td></td>\n",
       "    </tr>\n",
       "    <tr>\n",
       "      <th>2</th>\n",
       "      <td>b</td>\n",
       "      <td>1</td>\n",
       "      <td>4</td>\n",
       "      <td>1</td>\n",
       "      <td>6</td>\n",
       "      <td>0</td>\n",
       "      <td>0</td>\n",
       "      <td>0</td>\n",
       "      <td>0</td>\n",
       "      <td>19</td>\n",
       "      <td>...</td>\n",
       "      <td>1.0</td>\n",
       "      <td>0.0</td>\n",
       "      <td>1.0</td>\n",
       "      <td>0.0</td>\n",
       "      <td>0.0</td>\n",
       "      <td>0.0</td>\n",
       "      <td>0.0</td>\n",
       "      <td>0.0</td>\n",
       "      <td>0.0</td>\n",
       "      <td></td>\n",
       "    </tr>\n",
       "    <tr>\n",
       "      <th>3</th>\n",
       "      <td>b</td>\n",
       "      <td>1</td>\n",
       "      <td>3</td>\n",
       "      <td>4</td>\n",
       "      <td>6</td>\n",
       "      <td>0</td>\n",
       "      <td>1</td>\n",
       "      <td>0</td>\n",
       "      <td>1</td>\n",
       "      <td>313</td>\n",
       "      <td>...</td>\n",
       "      <td>1.0</td>\n",
       "      <td>0.0</td>\n",
       "      <td>1.0</td>\n",
       "      <td>0.0</td>\n",
       "      <td>0.0</td>\n",
       "      <td>0.0</td>\n",
       "      <td>0.0</td>\n",
       "      <td>0.0</td>\n",
       "      <td>0.0</td>\n",
       "      <td></td>\n",
       "    </tr>\n",
       "    <tr>\n",
       "      <th>4</th>\n",
       "      <td>b</td>\n",
       "      <td>1</td>\n",
       "      <td>3</td>\n",
       "      <td>3</td>\n",
       "      <td>22</td>\n",
       "      <td>0</td>\n",
       "      <td>0</td>\n",
       "      <td>0</td>\n",
       "      <td>0</td>\n",
       "      <td>313</td>\n",
       "      <td>...</td>\n",
       "      <td>1.0</td>\n",
       "      <td>1.0</td>\n",
       "      <td>0.0</td>\n",
       "      <td>0.0</td>\n",
       "      <td>0.0</td>\n",
       "      <td>0.0</td>\n",
       "      <td>0.0</td>\n",
       "      <td>1.0</td>\n",
       "      <td>0.0</td>\n",
       "      <td>Nonprofit</td>\n",
       "    </tr>\n",
       "  </tbody>\n",
       "</table>\n",
       "<p>5 rows × 65 columns</p>\n",
       "</div>"
      ],
      "text/plain": [
       "  id ad  education  ofjobs  yearsexp  honors  volunteer  military  empholes  \\\n",
       "0  b  1          4       2         6       0          0         0         1   \n",
       "1  b  1          3       3         6       0          1         1         0   \n",
       "2  b  1          4       1         6       0          0         0         0   \n",
       "3  b  1          3       4         6       0          1         0         1   \n",
       "4  b  1          3       3        22       0          0         0         0   \n",
       "\n",
       "   occupspecific    ...      compreq  orgreq  manuf  transcom  bankreal trade  \\\n",
       "0             17    ...          1.0     0.0    1.0       0.0       0.0   0.0   \n",
       "1            316    ...          1.0     0.0    1.0       0.0       0.0   0.0   \n",
       "2             19    ...          1.0     0.0    1.0       0.0       0.0   0.0   \n",
       "3            313    ...          1.0     0.0    1.0       0.0       0.0   0.0   \n",
       "4            313    ...          1.0     1.0    0.0       0.0       0.0   0.0   \n",
       "\n",
       "  busservice othservice  missind  ownership  \n",
       "0        0.0        0.0      0.0             \n",
       "1        0.0        0.0      0.0             \n",
       "2        0.0        0.0      0.0             \n",
       "3        0.0        0.0      0.0             \n",
       "4        0.0        1.0      0.0  Nonprofit  \n",
       "\n",
       "[5 rows x 65 columns]"
      ]
     },
     "execution_count": 7,
     "metadata": {},
     "output_type": "execute_result"
    }
   ],
   "source": [
    "data.head()"
   ]
  },
  {
   "cell_type": "markdown",
   "metadata": {
    "collapsed": true
   },
   "source": [
    "<div class=\"span5 alert alert-success\">\n",
    "<p>Your answers to Q1 and Q2 here</p>\n",
    "</div>\n",
    "\n",
    "**Question 1**: What test is appropriate for this problem? Does CLT apply?\n",
    "\n",
    "> The context of this problem suggest that we want to test whether there is a difference between the callback rate of white and black sounding resumes. This suggest a two sample test, in which two different samples are compared. \n",
    "\n",
    "> Central Limit Theorem applies to this question due to the following: \n",
    "\n",
    ">> 1. Independence: We can reasonably assume that a sample of is less than 10% of the black and white sounding resumes population.\n",
    ">> 2. Randomness: The experiment assigned black and white sounding names to the same resume at random.\n",
    ">> 3. Sample: Sample is > 30.\n",
    "\n",
    "\n",
    "**Question 2**: What are the null and alternate hypotheses?\n",
    "\n",
    "> * H0: There is no difference in the proportion of callbacks between black-sounding names and white-sounding names.\n",
    "> * H1: The of callbacks to black-sounding names and white-sounding names is different.\n",
    "> * Alpha = 0.05"
   ]
  },
  {
   "cell_type": "code",
   "execution_count": 17,
   "metadata": {},
   "outputs": [],
   "source": [
    "w = data[data.race=='w']\n",
    "b = data[data.race=='b']"
   ]
  },
  {
   "cell_type": "markdown",
   "metadata": {},
   "source": [
    "**Question 3**: Compute margin of error, confidence interval, and p-value. Try using both the bootstrapping and the frequentist statistical approaches."
   ]
  },
  {
   "cell_type": "markdown",
   "metadata": {},
   "source": [
    "> **Frequentist Approach**"
   ]
  },
  {
   "cell_type": "code",
   "execution_count": 56,
   "metadata": {},
   "outputs": [
    {
     "name": "stdout",
     "output_type": "stream",
     "text": [
      "Mean Black-Sounding Resumes Callback:  0.064\n",
      "Mean White-Sounding Resumes Callback:  0.097\n",
      "Black Trials: 2435 White Trials: 2435\n"
     ]
    }
   ],
   "source": [
    "#Calculate Mean and Length of samples\n",
    "#Mean is also rate of succeses since is a 0 or 1 entry.\n",
    "\n",
    "b_mean = np.mean(b.call) \n",
    "w_mean = np.mean(w.call)\n",
    "\n",
    "b_count = len(b.call)\n",
    "w_count = len(w.call)\n",
    "\n",
    "\n",
    "print('Mean Black-Sounding Resumes Callback: ',round(b_mean,3))\n",
    "print('Mean White-Sounding Resumes Callback: ',round(w_mean,3))\n",
    "\n",
    "print('Black Trials:',b_count, 'White Trials:',w_count)"
   ]
  },
  {
   "cell_type": "code",
   "execution_count": 46,
   "metadata": {},
   "outputs": [
    {
     "name": "stdout",
     "output_type": "stream",
     "text": [
      "The standard error black sample:  0.005\n",
      "The standard error white sample:  0.006\n",
      "Black Sample Confidence Interval:  0.055 - 0.074\n",
      "White Sample Confidence Interval:  0.085 - 0.108\n",
      "T-statistic:  4.114705290861751\n",
      "P-value T-Test:  3.940802103128886e-05\n"
     ]
    }
   ],
   "source": [
    "# Margin of error / Standard error\n",
    "\n",
    "print('The standard error black sample: ', round(stats.sem(b.call),3))\n",
    "\n",
    "print('The standard error white sample: ', round(stats.sem(w.call),3))\n",
    "\n",
    "\n",
    "# 95% confidence interval\n",
    "\n",
    "b_interval = stats.t.interval(alpha = .95, df = b_count-1, loc = b_mean, scale=stats.sem(b.call))\n",
    "\n",
    "print('Black Sample Confidence Interval: ', round(b_interval[0],3), '-',round(b_interval[1],3))\n",
    "\n",
    "w_interval = stats.t.interval(alpha = .95, df = w_count-1, loc = w_mean, scale=stats.sem(w.call))\n",
    "\n",
    "print('White Sample Confidence Interval: ', round(w_interval[0],3), '-',round(w_interval[1],3))\n",
    "\n",
    "#Hypothesis testing using t-test approach because population parameters are unknown. \n",
    "\n",
    "ttest_stat, pvalue_ttest = stats.ttest_ind(w.call,b.call)\n",
    "\n",
    "print('T-statistic: ', ttest_stat)\n",
    "print('P-value T-Test: ', pvalue_ttest)\n",
    "\n",
    "#Reject the null hypothesis the sample means (proportions) for black and white sounding resumes are equal."
   ]
  },
  {
   "cell_type": "markdown",
   "metadata": {},
   "source": [
    "> **Bootstrap Approach**"
   ]
  },
  {
   "cell_type": "code",
   "execution_count": 47,
   "metadata": {},
   "outputs": [],
   "source": [
    "#Define bootstrap function\n",
    "\n",
    "def bs_sample(v, function, size = 10000):\n",
    "    \n",
    "    #Generate random seed for replicability\n",
    "    np.random.seed(42) \n",
    "    \n",
    "    #Initialize replicates\n",
    "    bs_sample = np.empty(size)\n",
    "    \n",
    "    #Create replicates\n",
    "    for i in range(size):\n",
    "        bs = function(np.random.choice(v, size=len(v)))\n",
    "        bs_sample[i] = bs\n",
    "\n",
    "    return  bs_sample"
   ]
  },
  {
   "cell_type": "code",
   "execution_count": 49,
   "metadata": {},
   "outputs": [
    {
     "name": "stdout",
     "output_type": "stream",
     "text": [
      "P-value bootstrap = 0.0\n"
     ]
    }
   ],
   "source": [
    "#Hypothesis testing using bootstrap replicates approach.\n",
    "\n",
    "# Generate shifted arrays\n",
    "w_shifted = w.call - np.mean(w.call) + np.mean(data.call)\n",
    "b_shifted = b.call - np.mean(b.call) + np.mean(data.call)\n",
    "\n",
    "# Compute 10,000 bootstrap replicates from shifted arrays\n",
    "w_bs = bs_sample(w_shifted, np.mean, size=10000)\n",
    "b_bs = bs_sample(b_shifted, np.mean, size=10000)\n",
    "\n",
    "# Get replicates of difference of means: bs_replicates\n",
    "\n",
    "bs_replicates_diff = w_bs - b_bs\n",
    "\n",
    "sample_diff_means = np.mean(w.call) - np.mean(b.call)\n",
    "\n",
    "# Compute and print p-value: p\n",
    "\n",
    "pvalue_gender_diff = np.sum(bs_replicates_diff >= sample_diff_means) / len(bs_replicates_diff)\n",
    "\n",
    "print('P-value bootstrap =', pvalue_gender_diff)\n",
    "\n",
    "##Reject the null hypothesis the sample means (proportions) for black and white sounding resumes are equal."
   ]
  },
  {
   "cell_type": "code",
   "execution_count": 55,
   "metadata": {},
   "outputs": [
    {
     "name": "stdout",
     "output_type": "stream",
     "text": [
      "Bootstrap Mean Black-Sounding Resumes Callback:  0.081\n",
      "Bootstrap Mean White-Sounding Resumes Callback:  0.081\n",
      "Black Trials: 10000 White Trials: 10000\n"
     ]
    }
   ],
   "source": [
    "#Calculate Mean and Length of bootstrap samples\n",
    "\n",
    "#Mean is also rate of succeses since is a 0 or 1 entry.\n",
    "\n",
    "b_mean_bs = np.mean(b_bs) \n",
    "w_mean_bs = np.mean(w_bs)\n",
    "\n",
    "b_count_bs = len(b_bs)\n",
    "w_count_bs = len(w_bs)\n",
    "\n",
    "\n",
    "print('Bootstrap Mean Black-Sounding Resumes Callback: ',round(b_mean_bs,3))\n",
    "\n",
    "print('Bootstrap Mean White-Sounding Resumes Callback: ',round(w_mean_bs,3))\n",
    "\n",
    "print('Black Trials:',b_count_bs, 'White Trials:',w_count_bs)"
   ]
  },
  {
   "cell_type": "code",
   "execution_count": 53,
   "metadata": {},
   "outputs": [
    {
     "name": "stdout",
     "output_type": "stream",
     "text": [
      "The standard error black sample:  0.0\n",
      "The standard error white sample:  0.0\n",
      "Black Bootstrap Sample Confidence Interval:  0.08 - 0.081\n",
      "White Bootstrap Sample Confidence Interval:  0.08 - 0.081\n"
     ]
    }
   ],
   "source": [
    "# Margin of error / Standard error\n",
    "\n",
    "print('The standard error black sample: ', round(stats.sem(w_bs),3))\n",
    "\n",
    "print('The standard error white sample: ', round(stats.sem(b_bs),3))\n",
    "\n",
    "\n",
    "# 95% confidence interval\n",
    "\n",
    "b_interval_bs = stats.t.interval(alpha = .95, df = b_count_bs-1, loc = b_mean_bs, scale=stats.sem(b_bs))\n",
    "\n",
    "print('Black Bootstrap Sample Confidence Interval: ', round(b_interval_bs[0],3), '-',round(b_interval_bs[1],3))\n",
    "\n",
    "w_interval_bs = stats.t.interval(alpha = .95, df = w_count_bs-1, loc = w_mean_bs, scale=stats.sem(w_bs))\n",
    "\n",
    "print('White Bootstrap Sample Confidence Interval: ', round(w_interval_bs[0],3), '-',round(w_interval_bs[1],3))"
   ]
  },
  {
   "cell_type": "markdown",
   "metadata": {},
   "source": [
    "<div class=\"span5 alert alert-success\">\n",
    "<p> Your answers to Q4 and Q5 here </p>\n",
    "</div>\n",
    "\n",
    "**Question 4**: Write a story describing the statistical significance in the context or the original problem.\n",
    "\n",
    "> * Using both a bootsrap approach and a frequentist approach (t-test) we can conclude that is highly unlikely the callback rates for the white and black sounding names resumes are the same. In both approaches, the p-value is very small.\n",
    "\n",
    "> * The confidence intervals of the black and white samples do not overlap making it highly unlikely that the callback rate is the same for the population. \n",
    "\n",
    "\n",
    "**Question 5**: Does your analysis mean that race/name is the most important factor in callback success? Why or why not? If not, how would you amend your analysis?\n",
    "\n",
    "> * **No, it does not mean it is the most important factor.** It simply establishes that there is a difference between the proportion of callbacks between white-sounding and black-sounding resumes. \n",
    "\n",
    "> * To understand factors and relationships we will need to take other factors/variables that can affect the callback rates. \n",
    "\n",
    "> * Moreover, when determining factors and their importance we start to enter to realm of effect sizes and causality.\n",
    "\n",
    "> * I would adjust my analysis as follows: (1) take into account more factors and see if the diffrence still persists, (2) attempt to get an estimate of the effect size between race and callbacks, (3) I would attempt to do a probit/logit regression model to estimate such effect size and take into account other factors available in the data. "
   ]
  },
  {
   "cell_type": "markdown",
   "metadata": {
    "collapsed": true
   },
   "source": [
    "# End of Notebook"
   ]
  }
 ],
 "metadata": {
  "kernelspec": {
   "display_name": "Python 3",
   "language": "python",
   "name": "python3"
  },
  "language_info": {
   "codemirror_mode": {
    "name": "ipython",
    "version": 3
   },
   "file_extension": ".py",
   "mimetype": "text/x-python",
   "name": "python",
   "nbconvert_exporter": "python",
   "pygments_lexer": "ipython3",
   "version": "3.6.4"
  }
 },
 "nbformat": 4,
 "nbformat_minor": 1
}
